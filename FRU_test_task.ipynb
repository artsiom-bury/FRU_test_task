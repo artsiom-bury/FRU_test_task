{
 "cells": [
  {
   "cell_type": "markdown",
   "metadata": {},
   "source": [
    "# Тестовое задание на позицию Data Analyst - Бурый Артём\n",
    "<div style=\"text-align: right\"><a target=\"_blank\" href=\"https://drive.google.com/file/d/14Hl1gFeVGPm1ChDI1HlNQB4Tz6bFH1Qd/view?usp=sharing\">Резюме</a></div>\n",
    "<div style=\"text-align: right\"><a target=\"_blank\" href=\"https://github.com/artsiom-bury/FRU_test_task/blob/main/FRU_test_task.ipynb\">Ссылка на ipynb</a></div>\n",
    "\n",
    "## Задание 1\n",
    "\n",
    "Для начала подключим необходимые библиотеки, загрузим данные и посмотрим на них"
   ]
  },
  {
   "cell_type": "code",
   "execution_count": 157,
   "metadata": {},
   "outputs": [],
   "source": [
    "import pandas as pd\n",
    "import math\n",
    "import matplotlib.pyplot as plt\n",
    "import seaborn as sns\n",
    "from scipy.stats import ttest_ind, shapiro"
   ]
  },
  {
   "cell_type": "code",
   "execution_count": 158,
   "metadata": {},
   "outputs": [
    {
     "data": {
      "text/html": [
       "<div>\n",
       "<style scoped>\n",
       "    .dataframe tbody tr th:only-of-type {\n",
       "        vertical-align: middle;\n",
       "    }\n",
       "\n",
       "    .dataframe tbody tr th {\n",
       "        vertical-align: top;\n",
       "    }\n",
       "\n",
       "    .dataframe thead th {\n",
       "        text-align: right;\n",
       "    }\n",
       "</style>\n",
       "<table border=\"1\" class=\"dataframe\">\n",
       "  <thead>\n",
       "    <tr style=\"text-align: right;\">\n",
       "      <th></th>\n",
       "      <th>ClientID</th>\n",
       "      <th>EventTime</th>\n",
       "      <th>EventType</th>\n",
       "      <th>DonationType</th>\n",
       "      <th>AmountInUSD</th>\n",
       "      <th>tag</th>\n",
       "    </tr>\n",
       "  </thead>\n",
       "  <tbody>\n",
       "    <tr>\n",
       "      <th>0</th>\n",
       "      <td>885410877</td>\n",
       "      <td>2022-07-20 00:00:23</td>\n",
       "      <td>checkoutView</td>\n",
       "      <td>NaN</td>\n",
       "      <td>NaN</td>\n",
       "      <td>control</td>\n",
       "    </tr>\n",
       "    <tr>\n",
       "      <th>1</th>\n",
       "      <td>859319263</td>\n",
       "      <td>2022-07-20 00:00:48</td>\n",
       "      <td>checkoutView</td>\n",
       "      <td>NaN</td>\n",
       "      <td>NaN</td>\n",
       "      <td>test</td>\n",
       "    </tr>\n",
       "    <tr>\n",
       "      <th>2</th>\n",
       "      <td>480984859</td>\n",
       "      <td>2022-07-20 00:00:58</td>\n",
       "      <td>checkoutView</td>\n",
       "      <td>NaN</td>\n",
       "      <td>NaN</td>\n",
       "      <td>control</td>\n",
       "    </tr>\n",
       "    <tr>\n",
       "      <th>3</th>\n",
       "      <td>204664871</td>\n",
       "      <td>2022-07-20 00:01:00</td>\n",
       "      <td>checkoutView</td>\n",
       "      <td>NaN</td>\n",
       "      <td>NaN</td>\n",
       "      <td>test</td>\n",
       "    </tr>\n",
       "    <tr>\n",
       "      <th>4</th>\n",
       "      <td>859319263</td>\n",
       "      <td>2022-07-20 00:01:05</td>\n",
       "      <td>checkoutView</td>\n",
       "      <td>NaN</td>\n",
       "      <td>NaN</td>\n",
       "      <td>test</td>\n",
       "    </tr>\n",
       "    <tr>\n",
       "      <th>...</th>\n",
       "      <td>...</td>\n",
       "      <td>...</td>\n",
       "      <td>...</td>\n",
       "      <td>...</td>\n",
       "      <td>...</td>\n",
       "      <td>...</td>\n",
       "    </tr>\n",
       "    <tr>\n",
       "      <th>58765</th>\n",
       "      <td>244210529</td>\n",
       "      <td>2022-07-27 00:00:12</td>\n",
       "      <td>charge</td>\n",
       "      <td>one-time</td>\n",
       "      <td>62.0</td>\n",
       "      <td>NaN</td>\n",
       "    </tr>\n",
       "    <tr>\n",
       "      <th>58766</th>\n",
       "      <td>920234036</td>\n",
       "      <td>2022-07-27 00:02:47</td>\n",
       "      <td>charge</td>\n",
       "      <td>one-time</td>\n",
       "      <td>110.0</td>\n",
       "      <td>NaN</td>\n",
       "    </tr>\n",
       "    <tr>\n",
       "      <th>58767</th>\n",
       "      <td>450325260</td>\n",
       "      <td>2022-07-27 00:03:55</td>\n",
       "      <td>charge</td>\n",
       "      <td>one-time</td>\n",
       "      <td>32.0</td>\n",
       "      <td>NaN</td>\n",
       "    </tr>\n",
       "    <tr>\n",
       "      <th>58768</th>\n",
       "      <td>450325260</td>\n",
       "      <td>2022-07-27 00:04:09</td>\n",
       "      <td>checkoutView</td>\n",
       "      <td>NaN</td>\n",
       "      <td>NaN</td>\n",
       "      <td>control</td>\n",
       "    </tr>\n",
       "    <tr>\n",
       "      <th>58769</th>\n",
       "      <td>450325260</td>\n",
       "      <td>2022-07-27 00:06:29</td>\n",
       "      <td>charge</td>\n",
       "      <td>one-time</td>\n",
       "      <td>38.0</td>\n",
       "      <td>NaN</td>\n",
       "    </tr>\n",
       "  </tbody>\n",
       "</table>\n",
       "<p>58770 rows × 6 columns</p>\n",
       "</div>"
      ],
      "text/plain": [
       "        ClientID            EventTime     EventType DonationType  AmountInUSD  \\\n",
       "0      885410877  2022-07-20 00:00:23  checkoutView          NaN          NaN   \n",
       "1      859319263  2022-07-20 00:00:48  checkoutView          NaN          NaN   \n",
       "2      480984859  2022-07-20 00:00:58  checkoutView          NaN          NaN   \n",
       "3      204664871  2022-07-20 00:01:00  checkoutView          NaN          NaN   \n",
       "4      859319263  2022-07-20 00:01:05  checkoutView          NaN          NaN   \n",
       "...          ...                  ...           ...          ...          ...   \n",
       "58765  244210529  2022-07-27 00:00:12        charge     one-time         62.0   \n",
       "58766  920234036  2022-07-27 00:02:47        charge     one-time        110.0   \n",
       "58767  450325260  2022-07-27 00:03:55        charge     one-time         32.0   \n",
       "58768  450325260  2022-07-27 00:04:09  checkoutView          NaN          NaN   \n",
       "58769  450325260  2022-07-27 00:06:29        charge     one-time         38.0   \n",
       "\n",
       "           tag  \n",
       "0      control  \n",
       "1         test  \n",
       "2      control  \n",
       "3         test  \n",
       "4         test  \n",
       "...        ...  \n",
       "58765      NaN  \n",
       "58766      NaN  \n",
       "58767      NaN  \n",
       "58768  control  \n",
       "58769      NaN  \n",
       "\n",
       "[58770 rows x 6 columns]"
      ]
     },
     "execution_count": 158,
     "metadata": {},
     "output_type": "execute_result"
    }
   ],
   "source": [
    "df = pd.read_csv('FRU_analytics_test_task.csv')\n",
    "df"
   ]
  },
  {
   "cell_type": "markdown",
   "metadata": {},
   "source": [
    "Посмотрим подробнее на колонки"
   ]
  },
  {
   "cell_type": "code",
   "execution_count": 159,
   "metadata": {},
   "outputs": [
    {
     "data": {
      "text/plain": [
       "ClientID     0\n",
       "EventTime    0\n",
       "dtype: int64"
      ]
     },
     "execution_count": 159,
     "metadata": {},
     "output_type": "execute_result"
    }
   ],
   "source": [
    "df[['ClientID', 'EventTime']].isna().sum()"
   ]
  },
  {
   "cell_type": "markdown",
   "metadata": {},
   "source": [
    "Нулевых значений по ID и дате нет"
   ]
  },
  {
   "cell_type": "code",
   "execution_count": 160,
   "metadata": {},
   "outputs": [
    {
     "name": "stdout",
     "output_type": "stream",
     "text": [
      "checkoutView    53406\n",
      "charge           5364\n",
      "Name: EventType, dtype: int64\n",
      "one-time     5189\n",
      "recurring     175\n",
      "Name: DonationType, dtype: int64\n",
      "test       26764\n",
      "control    26642\n",
      "Name: tag, dtype: int64\n"
     ]
    }
   ],
   "source": [
    "print(df['EventType'].value_counts())\n",
    "print(df['DonationType'].value_counts())\n",
    "print(df['tag'].value_counts())"
   ]
  },
  {
   "cell_type": "markdown",
   "metadata": {},
   "source": [
    "Неожиданных значений тоже нет"
   ]
  },
  {
   "cell_type": "code",
   "execution_count": 161,
   "metadata": {},
   "outputs": [
    {
     "data": {
      "text/plain": [
       "count     5364.000000\n",
       "mean        78.335943\n",
       "std        177.197650\n",
       "min          5.000000\n",
       "25%         20.000000\n",
       "50%         50.000000\n",
       "75%        106.000000\n",
       "max      10000.000000\n",
       "Name: AmountInUSD, dtype: float64"
      ]
     },
     "execution_count": 161,
     "metadata": {},
     "output_type": "execute_result"
    }
   ],
   "source": [
    "df['AmountInUSD'].describe()"
   ]
  },
  {
   "cell_type": "markdown",
   "metadata": {},
   "source": [
    "Здесь сразу видно, что есть выбросы. 75 квартиль 106, а максимальное значение 10000.\n",
    "\n",
    "В качестве основной метрики для сравнения в АБ тесте, я бы выбрал среднее разовое пожертвование. Потому что именно на эту метрику больше всего должна повлиять наша доработка. Безусловно, если бы это был реальный рабочий кейс, то я бы проанализировал ещё конверсию в оплату (общую и раздельно в разовую и ежемесячную), количество оплат от одного пользователя. Но в рамках выполнения тестового остановлюсь на среднем разовом пожертвовании, чтобы уложиться в разумные сроки по времени выполнения.\n",
    "\n",
    "Для этого оставим данные, где <code>'DonationType' == 'one-time'</code> и присоединим метки группы"
   ]
  },
  {
   "cell_type": "code",
   "execution_count": 162,
   "metadata": {},
   "outputs": [
    {
     "data": {
      "text/html": [
       "<div>\n",
       "<style scoped>\n",
       "    .dataframe tbody tr th:only-of-type {\n",
       "        vertical-align: middle;\n",
       "    }\n",
       "\n",
       "    .dataframe tbody tr th {\n",
       "        vertical-align: top;\n",
       "    }\n",
       "\n",
       "    .dataframe thead th {\n",
       "        text-align: right;\n",
       "    }\n",
       "</style>\n",
       "<table border=\"1\" class=\"dataframe\">\n",
       "  <thead>\n",
       "    <tr style=\"text-align: right;\">\n",
       "      <th></th>\n",
       "      <th>ClientID</th>\n",
       "      <th>EventTime</th>\n",
       "      <th>EventType</th>\n",
       "      <th>DonationType</th>\n",
       "      <th>AmountInUSD</th>\n",
       "      <th>tag</th>\n",
       "    </tr>\n",
       "  </thead>\n",
       "  <tbody>\n",
       "    <tr>\n",
       "      <th>0</th>\n",
       "      <td>204664871</td>\n",
       "      <td>2022-07-20 00:03:50</td>\n",
       "      <td>charge</td>\n",
       "      <td>one-time</td>\n",
       "      <td>200.0</td>\n",
       "      <td>test</td>\n",
       "    </tr>\n",
       "    <tr>\n",
       "      <th>1</th>\n",
       "      <td>480984859</td>\n",
       "      <td>2022-07-20 00:04:49</td>\n",
       "      <td>charge</td>\n",
       "      <td>one-time</td>\n",
       "      <td>110.0</td>\n",
       "      <td>control</td>\n",
       "    </tr>\n",
       "    <tr>\n",
       "      <th>2</th>\n",
       "      <td>204664871</td>\n",
       "      <td>2022-07-20 00:05:01</td>\n",
       "      <td>charge</td>\n",
       "      <td>one-time</td>\n",
       "      <td>28.0</td>\n",
       "      <td>test</td>\n",
       "    </tr>\n",
       "    <tr>\n",
       "      <th>3</th>\n",
       "      <td>162105910</td>\n",
       "      <td>2022-07-20 00:07:57</td>\n",
       "      <td>charge</td>\n",
       "      <td>one-time</td>\n",
       "      <td>50.0</td>\n",
       "      <td>control</td>\n",
       "    </tr>\n",
       "    <tr>\n",
       "      <th>4</th>\n",
       "      <td>768115744</td>\n",
       "      <td>2022-07-20 00:11:06</td>\n",
       "      <td>charge</td>\n",
       "      <td>one-time</td>\n",
       "      <td>10.0</td>\n",
       "      <td>test</td>\n",
       "    </tr>\n",
       "    <tr>\n",
       "      <th>...</th>\n",
       "      <td>...</td>\n",
       "      <td>...</td>\n",
       "      <td>...</td>\n",
       "      <td>...</td>\n",
       "      <td>...</td>\n",
       "      <td>...</td>\n",
       "    </tr>\n",
       "    <tr>\n",
       "      <th>5184</th>\n",
       "      <td>496846052</td>\n",
       "      <td>2022-07-27 00:00:04</td>\n",
       "      <td>charge</td>\n",
       "      <td>one-time</td>\n",
       "      <td>48.0</td>\n",
       "      <td>control</td>\n",
       "    </tr>\n",
       "    <tr>\n",
       "      <th>5185</th>\n",
       "      <td>244210529</td>\n",
       "      <td>2022-07-27 00:00:12</td>\n",
       "      <td>charge</td>\n",
       "      <td>one-time</td>\n",
       "      <td>62.0</td>\n",
       "      <td>control</td>\n",
       "    </tr>\n",
       "    <tr>\n",
       "      <th>5186</th>\n",
       "      <td>920234036</td>\n",
       "      <td>2022-07-27 00:02:47</td>\n",
       "      <td>charge</td>\n",
       "      <td>one-time</td>\n",
       "      <td>110.0</td>\n",
       "      <td>control</td>\n",
       "    </tr>\n",
       "    <tr>\n",
       "      <th>5187</th>\n",
       "      <td>450325260</td>\n",
       "      <td>2022-07-27 00:03:55</td>\n",
       "      <td>charge</td>\n",
       "      <td>one-time</td>\n",
       "      <td>32.0</td>\n",
       "      <td>control</td>\n",
       "    </tr>\n",
       "    <tr>\n",
       "      <th>5188</th>\n",
       "      <td>450325260</td>\n",
       "      <td>2022-07-27 00:06:29</td>\n",
       "      <td>charge</td>\n",
       "      <td>one-time</td>\n",
       "      <td>38.0</td>\n",
       "      <td>control</td>\n",
       "    </tr>\n",
       "  </tbody>\n",
       "</table>\n",
       "<p>5189 rows × 6 columns</p>\n",
       "</div>"
      ],
      "text/plain": [
       "       ClientID            EventTime EventType DonationType  AmountInUSD  \\\n",
       "0     204664871  2022-07-20 00:03:50    charge     one-time        200.0   \n",
       "1     480984859  2022-07-20 00:04:49    charge     one-time        110.0   \n",
       "2     204664871  2022-07-20 00:05:01    charge     one-time         28.0   \n",
       "3     162105910  2022-07-20 00:07:57    charge     one-time         50.0   \n",
       "4     768115744  2022-07-20 00:11:06    charge     one-time         10.0   \n",
       "...         ...                  ...       ...          ...          ...   \n",
       "5184  496846052  2022-07-27 00:00:04    charge     one-time         48.0   \n",
       "5185  244210529  2022-07-27 00:00:12    charge     one-time         62.0   \n",
       "5186  920234036  2022-07-27 00:02:47    charge     one-time        110.0   \n",
       "5187  450325260  2022-07-27 00:03:55    charge     one-time         32.0   \n",
       "5188  450325260  2022-07-27 00:06:29    charge     one-time         38.0   \n",
       "\n",
       "          tag  \n",
       "0        test  \n",
       "1     control  \n",
       "2        test  \n",
       "3     control  \n",
       "4        test  \n",
       "...       ...  \n",
       "5184  control  \n",
       "5185  control  \n",
       "5186  control  \n",
       "5187  control  \n",
       "5188  control  \n",
       "\n",
       "[5189 rows x 6 columns]"
      ]
     },
     "execution_count": 162,
     "metadata": {},
     "output_type": "execute_result"
    }
   ],
   "source": [
    "df1 = df[(df['EventType']=='charge') & (df['DonationType']=='one-time')].drop(columns='tag').merge(df.dropna(subset='tag')[['ClientID', 'tag']].drop_duplicates(), how='left', on='ClientID')\n",
    "df1"
   ]
  },
  {
   "cell_type": "code",
   "execution_count": 163,
   "metadata": {},
   "outputs": [
    {
     "data": {
      "image/png": "[encoded data removed]",
      "text/plain": [
       "<Figure size 1152x360 with 2 Axes>"
      ]
     },
     "metadata": {
      "needs_background": "light"
     },
     "output_type": "display_data"
    }
   ],
   "source": [
    "fig, axes = plt.subplots(nrows=1, ncols=2, figsize=(16, 5))\n",
    "sns.histplot(data=df1, x=\"AmountInUSD\", hue='tag', ax=axes[0])\n",
    "sns.boxplot(data=df1, y=\"AmountInUSD\", x='tag', ax=axes[1])\n",
    "plt.show()"
   ]
  },
  {
   "cell_type": "markdown",
   "metadata": {},
   "source": [
    "Здесь сразу видно, что надо убрать выбросы. Безусловно, пользователи, которые донатят по несколько тысяч долларов для нас важны. Но для АБ теста они крайне не показательны, и только смажут результаты. Все выбросы находятся в донатах выше 500 USD. Убрав их, получим красивые графики:"
   ]
  },
  {
   "cell_type": "code",
   "execution_count": 164,
   "metadata": {},
   "outputs": [
    {
     "data": {
      "image/png": "[encoded data removed]",
      "text/plain": [
       "<Figure size 1152x360 with 2 Axes>"
      ]
     },
     "metadata": {
      "needs_background": "light"
     },
     "output_type": "display_data"
    }
   ],
   "source": [
    "df1 = df1[df1['AmountInUSD'] < 500].copy()\n",
    "\n",
    "fig, axes = plt.subplots(nrows=1, ncols=2, figsize=(16, 5))\n",
    "sns.histplot(data=df1, x=\"AmountInUSD\", hue='tag', ax=axes[0])\n",
    "sns.boxplot(data=df1, y=\"AmountInUSD\", x='tag', ax=axes[1])\n",
    "plt.show()"
   ]
  },
  {
   "cell_type": "code",
   "execution_count": 165,
   "metadata": {},
   "outputs": [
    {
     "data": {
      "text/html": [
       "<div>\n",
       "<style scoped>\n",
       "    .dataframe tbody tr th:only-of-type {\n",
       "        vertical-align: middle;\n",
       "    }\n",
       "\n",
       "    .dataframe tbody tr th {\n",
       "        vertical-align: top;\n",
       "    }\n",
       "\n",
       "    .dataframe thead th {\n",
       "        text-align: right;\n",
       "    }\n",
       "</style>\n",
       "<table border=\"1\" class=\"dataframe\">\n",
       "  <thead>\n",
       "    <tr style=\"text-align: right;\">\n",
       "      <th></th>\n",
       "      <th>unique_clients</th>\n",
       "      <th>count</th>\n",
       "      <th>mean</th>\n",
       "      <th>std</th>\n",
       "    </tr>\n",
       "    <tr>\n",
       "      <th>tag</th>\n",
       "      <th></th>\n",
       "      <th></th>\n",
       "      <th></th>\n",
       "      <th></th>\n",
       "    </tr>\n",
       "  </thead>\n",
       "  <tbody>\n",
       "    <tr>\n",
       "      <th>control</th>\n",
       "      <td>2349</td>\n",
       "      <td>2478</td>\n",
       "      <td>78.717514</td>\n",
       "      <td>57.557765</td>\n",
       "    </tr>\n",
       "    <tr>\n",
       "      <th>test</th>\n",
       "      <td>2578</td>\n",
       "      <td>2698</td>\n",
       "      <td>70.696442</td>\n",
       "      <td>57.699631</td>\n",
       "    </tr>\n",
       "  </tbody>\n",
       "</table>\n",
       "</div>"
      ],
      "text/plain": [
       "         unique_clients  count       mean        std\n",
       "tag                                                 \n",
       "control            2349   2478  78.717514  57.557765\n",
       "test               2578   2698  70.696442  57.699631"
      ]
     },
     "execution_count": 165,
     "metadata": {},
     "output_type": "execute_result"
    }
   ],
   "source": [
    "df1.groupby('tag').agg(\n",
    "    unique_clients=('ClientID', 'nunique'), \n",
    "    count=('EventTime', 'count'),\n",
    "    mean=('AmountInUSD', 'mean'),\n",
    "    std=('AmountInUSD', 'std'))"
   ]
  },
  {
   "cell_type": "markdown",
   "metadata": {},
   "source": [
    "Тут уже сразу видно, что медианный средний донат у контрольной группы выше. Также видно без всяких критериев, что сами данные не распределены нормально (имеем много пользователей, которые выбирают один из возможных для выбора донатов, а не вписывают свою сумму). Но для применения t-критерия и не нужны нормально распределенные данные, нужно, чтобы статистика по этим данным (в нашем случае выборочное среднее) была распределено нормально. А так как данных у нас по ~ 2,5 тысячи, то в силу ЦПТ выборочное среднее будет распределено нормально. Но для успокоения совести можно это проверить"
   ]
  },
  {
   "cell_type": "code",
   "execution_count": 166,
   "metadata": {},
   "outputs": [
    {
     "name": "stdout",
     "output_type": "stream",
     "text": [
      "Результаты критерия Шапиро для контрольной группы: ShapiroResult(statistic=0.9975850582122803, pvalue=0.14872296154499054)\n",
      "Результаты критерия Шапиро для контрольной группы: ShapiroResult(statistic=0.9966250658035278, pvalue=0.030689096078276634)\n"
     ]
    },
    {
     "data": {
      "image/png": "[encoded data removed]",
      "text/plain": [
       "<Figure size 720x432 with 1 Axes>"
      ]
     },
     "metadata": {
      "needs_background": "light"
     },
     "output_type": "display_data"
    }
   ],
   "source": [
    "m_control, m_test = [], []\n",
    "for i in range (1000):\n",
    "    m_control.append(df1[df1['tag']=='control']['AmountInUSD'].sample(frac=1, replace=True).mean())\n",
    "    m_test.append(df1[df1['tag']=='test']['AmountInUSD'].sample(frac=1, replace=True).mean())\n",
    "print(f\"Результаты критерия Шапиро для контрольной группы: {shapiro(m_control)}\")\n",
    "print(f\"Результаты критерия Шапиро для контрольной группы: {shapiro(m_test)}\")\n",
    "fig = plt.figure(figsize=(10,6))\n",
    "sns.histplot(m_control)\n",
    "sns.histplot(m_test, color='orange')\n",
    "fig.legend(labels=['Control','Test'])\n",
    "plt.show()"
   ]
  },
  {
   "cell_type": "markdown",
   "metadata": {},
   "source": [
    "В обоих случаях имеем pvalue > 0.05, значит нет оснований полагать, что данные не распределены нормально. Можно применять t-критерий. Выборки у нас независимые"
   ]
  },
  {
   "cell_type": "code",
   "execution_count": 167,
   "metadata": {},
   "outputs": [
    {
     "data": {
      "text/plain": [
       "Ttest_indResult(statistic=5.002015742435075, pvalue=5.860963652127546e-07)"
      ]
     },
     "execution_count": 167,
     "metadata": {},
     "output_type": "execute_result"
    }
   ],
   "source": [
    "ttest_ind(df1[df1['tag']=='control']['AmountInUSD'], df1[df1['tag']=='test']['AmountInUSD'])"
   ]
  },
  {
   "cell_type": "markdown",
   "metadata": {},
   "source": [
    "pvalue << 0.05, а значит мы можем утверждать, что различие в средних для тестовой и контрольной выборок является статистически значимым, а вероятность ошибки первого рода у нас очень низкая.\n",
    "\n",
    "## Вывод\n",
    "\n",
    "То, что мы убрали предустановленный донат в 100$ статистически значимо негативно сказалось на среднем донате. Основываясь на данном критерии я не рекомендую принимать решение о внедрении этого изменения на всех пользователей. Однако, как я уже упоминал ранее, в реальной ситуации я бы посмотрел ещё на оставшиеся метрики, применил бы к ним соответствующие критерии (для конверсий был бы критерий хи-квадрат, а не стьюдента), и выдал бы общий вывод о том, стоит ли вводить изменение. Надеюсь, этого достаточно для оценки моих знаний по проведению АБ тестов.\n",
    "\n",
    "# Задание 2\n",
    "\n",
    "Компания UNICEF получает в среднем 200 пожертвований в день. Найдите вероятность\n",
    "того, что за ближайшие полчаса в UNICEF сделают\n",
    "1. ровно 5 пожертвований;\n",
    "2. От 3 до 5 пожертвований;\n",
    "\n",
    "## Решение\n",
    "\n",
    "Это классический пример задачи на распределение Пуассона\n",
    "\n",
    "$$\n",
    "  P(k)=\\frac{\\lambda^k}{k!}e^{-\\lambda},\n",
    "$$\n",
    "где $\\lambda=np$.\n",
    "\n",
    "В нашем случае $\\lambda=\\frac{200}{24 \\cdot 2}$\n",
    "\n",
    "Посчитаем значения на почти калькуляторе"
   ]
  },
  {
   "cell_type": "code",
   "execution_count": 172,
   "metadata": {},
   "outputs": [
    {
     "name": "stdout",
     "output_type": "stream",
     "text": [
      "Вероятность ровно 5 пожертвований за полчаса: 0.1622565375330348\n",
      "Вероятность от 3 до 5 пожертвований за полчаса: 0.5438839138107326\n"
     ]
    }
   ],
   "source": [
    "def poisson(l,k):\n",
    "    return (l ** k) / math.factorial(k) * (math.e ** (-l))\n",
    "\n",
    "print(f'Вероятность ровно 5 пожертвований за полчаса: {poisson(200/48,5)}')\n",
    "print(f'Вероятность от 3 до 5 пожертвований за полчаса: {poisson(200/48,3)+poisson(200/48,4)+poisson(200/48,5)}')"
   ]
  },
  {
   "cell_type": "markdown",
   "metadata": {},
   "source": [
    "# Задание 3\n",
    "\n",
    "Форма для совершения пожертвований состоит из нескольких отдельных экранов, на\n",
    "каждом из которых у пользователя запрашивается различная информация (сумма\n",
    "пожертвования, имя, электронный адрес и т.д.). Каждая организация может настроить форму под себя: 3 экрана являются обязательными для всех, а 2 других организация может включить или исключить из формы (как оба, так и любой из них). Таким образом, вся форма может состоять из 3,4 или 5 экранов. При этом первым в последовательности экранов всегда идет экран с выбором суммы. Все следующие экраны могут идти в любой последовательности. Определите, какое количество уникальных флоу (последовательностей экранов) доступно организациям.\n",
    "\n",
    "## Решение\n",
    "\n",
    "Задача на комбинаторику. Сразу можно забыть про первый экран: он есть всегда, и он всегда на первом месте. Ответ - это количество комбинаций из 2 экранов + (количеством комбинаций из 3 экранов) * 2 + количество комбинаций из 4 экранов. Умножаем второе слагаемое на двойку, так как можем выбрать один из двух опциональных экранов.\n",
    "\n",
    "$N = A_2^2 + A_3^3 * 2 + A_4^4$"
   ]
  },
  {
   "cell_type": "code",
   "execution_count": 169,
   "metadata": {},
   "outputs": [
    {
     "data": {
      "text/plain": [
       "38.0"
      ]
     },
     "execution_count": 169,
     "metadata": {},
     "output_type": "execute_result"
    }
   ],
   "source": [
    "from scipy.special import perm\n",
    "\n",
    "perm(2,2) + perm(3,3)*2 + perm(4,4)"
   ]
  },
  {
   "cell_type": "markdown",
   "metadata": {},
   "source": [
    "# Задание 4\n",
    "\n",
    "Код пишу для PostgreSQL\n",
    "\n",
    "```sql\n",
    "with t2 as (\n",
    "\twith t1 as (\n",
    "\t    select to_char(we.EventTime, 'YYYY-MM-DD') as Event_date,\n",
    "\t        we.ClientID,\n",
    "\t        count(*)\n",
    "\t    from websites_events we\n",
    "\t    where we.EventType = 'elementView'\n",
    "\t    group by to_char(we.EventTime, 'YYYY-MM-DD'),\n",
    "\t        we.ClientID\n",
    "\t)\n",
    "    select c.Event_date,\n",
    "        c.ClientID,\n",
    "        c.Campaign_key\n",
    "    from charges c\n",
    "    left join (select c1.Campaign_key,\n",
    "                    max(c1.AmountInUSD) as max_amount\n",
    "                from charges c1\n",
    "                left join t1 on (to_char(c1.Event_date, 'YYYY-MM-DD') = t1.Event_date and\n",
    "                    c1.ClientID = t1.ClientID)\n",
    "                where t1.count is null\n",
    "                group by c1.Campaign_key) c2 on c2.Campaign_key = c.Campaign_key\n",
    "    where c.AmountInUSD = c2.max_amount\n",
    ")\n",
    "select w.campaign_name ,\n",
    "\tt2.Event_date,\n",
    "\tt2.ClientID\n",
    "from widgets w\n",
    "left join t2 on t2.Campaign_key = w.Campaign_key\n",
    "where w.Company_name <> 'My_company'\n",
    "```"
   ]
  }
 ],
 "metadata": {
  "kernelspec": {
   "display_name": "base",
   "language": "python",
   "name": "python3"
  },
  "language_info": {
   "codemirror_mode": {
    "name": "ipython",
    "version": 3
   },
   "file_extension": ".py",
   "mimetype": "text/x-python",
   "name": "python",
   "nbconvert_exporter": "python",
   "pygments_lexer": "ipython3",
   "version": "3.9.12"
  }
 },
 "nbformat": 4,
 "nbformat_minor": 2
}
